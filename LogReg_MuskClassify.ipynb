{
 "cells": [
  {
   "cell_type": "code",
   "execution_count": 6,
   "metadata": {
    "collapsed": true,
    "deletable": true,
    "editable": true
   },
   "outputs": [],
   "source": [
    "import pandas as pd\n",
    "import numpy as np\n",
    "import matplotlib.pyplot as plt\n",
    "%matplotlib inline"
   ]
  },
  {
   "cell_type": "code",
   "execution_count": 7,
   "metadata": {
    "collapsed": true,
    "deletable": true,
    "editable": true
   },
   "outputs": [],
   "source": [
    "data = pd.read_csv('musk_csv.csv')"
   ]
  },
  {
   "cell_type": "code",
   "execution_count": 8,
   "metadata": {
    "collapsed": false,
    "deletable": true,
    "editable": true
   },
   "outputs": [
    {
     "data": {
      "text/html": [
       "<div>\n",
       "<style scoped>\n",
       "    .dataframe tbody tr th:only-of-type {\n",
       "        vertical-align: middle;\n",
       "    }\n",
       "\n",
       "    .dataframe tbody tr th {\n",
       "        vertical-align: top;\n",
       "    }\n",
       "\n",
       "    .dataframe thead th {\n",
       "        text-align: right;\n",
       "    }\n",
       "</style>\n",
       "<table border=\"1\" class=\"dataframe\">\n",
       "  <thead>\n",
       "    <tr style=\"text-align: right;\">\n",
       "      <th></th>\n",
       "      <th>ID</th>\n",
       "      <th>molecule_name</th>\n",
       "      <th>conformation_name</th>\n",
       "      <th>f1</th>\n",
       "      <th>f2</th>\n",
       "      <th>f3</th>\n",
       "      <th>f4</th>\n",
       "      <th>f5</th>\n",
       "      <th>f6</th>\n",
       "      <th>f7</th>\n",
       "      <th>...</th>\n",
       "      <th>f158</th>\n",
       "      <th>f159</th>\n",
       "      <th>f160</th>\n",
       "      <th>f161</th>\n",
       "      <th>f162</th>\n",
       "      <th>f163</th>\n",
       "      <th>f164</th>\n",
       "      <th>f165</th>\n",
       "      <th>f166</th>\n",
       "      <th>class</th>\n",
       "    </tr>\n",
       "  </thead>\n",
       "  <tbody>\n",
       "    <tr>\n",
       "      <td>0</td>\n",
       "      <td>1</td>\n",
       "      <td>MUSK-211</td>\n",
       "      <td>211_1+1</td>\n",
       "      <td>46</td>\n",
       "      <td>-108</td>\n",
       "      <td>-60</td>\n",
       "      <td>-69</td>\n",
       "      <td>-117</td>\n",
       "      <td>49</td>\n",
       "      <td>38</td>\n",
       "      <td>...</td>\n",
       "      <td>-308</td>\n",
       "      <td>52</td>\n",
       "      <td>-7</td>\n",
       "      <td>39</td>\n",
       "      <td>126</td>\n",
       "      <td>156</td>\n",
       "      <td>-50</td>\n",
       "      <td>-112</td>\n",
       "      <td>96</td>\n",
       "      <td>1</td>\n",
       "    </tr>\n",
       "    <tr>\n",
       "      <td>1</td>\n",
       "      <td>2</td>\n",
       "      <td>MUSK-211</td>\n",
       "      <td>211_1+10</td>\n",
       "      <td>41</td>\n",
       "      <td>-188</td>\n",
       "      <td>-145</td>\n",
       "      <td>22</td>\n",
       "      <td>-117</td>\n",
       "      <td>-6</td>\n",
       "      <td>57</td>\n",
       "      <td>...</td>\n",
       "      <td>-59</td>\n",
       "      <td>-2</td>\n",
       "      <td>52</td>\n",
       "      <td>103</td>\n",
       "      <td>136</td>\n",
       "      <td>169</td>\n",
       "      <td>-61</td>\n",
       "      <td>-136</td>\n",
       "      <td>79</td>\n",
       "      <td>1</td>\n",
       "    </tr>\n",
       "    <tr>\n",
       "      <td>2</td>\n",
       "      <td>3</td>\n",
       "      <td>MUSK-211</td>\n",
       "      <td>211_1+11</td>\n",
       "      <td>46</td>\n",
       "      <td>-194</td>\n",
       "      <td>-145</td>\n",
       "      <td>28</td>\n",
       "      <td>-117</td>\n",
       "      <td>73</td>\n",
       "      <td>57</td>\n",
       "      <td>...</td>\n",
       "      <td>-134</td>\n",
       "      <td>-154</td>\n",
       "      <td>57</td>\n",
       "      <td>143</td>\n",
       "      <td>142</td>\n",
       "      <td>165</td>\n",
       "      <td>-67</td>\n",
       "      <td>-145</td>\n",
       "      <td>39</td>\n",
       "      <td>1</td>\n",
       "    </tr>\n",
       "    <tr>\n",
       "      <td>3</td>\n",
       "      <td>4</td>\n",
       "      <td>MUSK-211</td>\n",
       "      <td>211_1+12</td>\n",
       "      <td>41</td>\n",
       "      <td>-188</td>\n",
       "      <td>-145</td>\n",
       "      <td>22</td>\n",
       "      <td>-117</td>\n",
       "      <td>-7</td>\n",
       "      <td>57</td>\n",
       "      <td>...</td>\n",
       "      <td>-60</td>\n",
       "      <td>-4</td>\n",
       "      <td>52</td>\n",
       "      <td>104</td>\n",
       "      <td>136</td>\n",
       "      <td>168</td>\n",
       "      <td>-60</td>\n",
       "      <td>-135</td>\n",
       "      <td>80</td>\n",
       "      <td>1</td>\n",
       "    </tr>\n",
       "    <tr>\n",
       "      <td>4</td>\n",
       "      <td>5</td>\n",
       "      <td>MUSK-211</td>\n",
       "      <td>211_1+13</td>\n",
       "      <td>41</td>\n",
       "      <td>-188</td>\n",
       "      <td>-145</td>\n",
       "      <td>22</td>\n",
       "      <td>-117</td>\n",
       "      <td>-7</td>\n",
       "      <td>57</td>\n",
       "      <td>...</td>\n",
       "      <td>-60</td>\n",
       "      <td>-4</td>\n",
       "      <td>52</td>\n",
       "      <td>104</td>\n",
       "      <td>137</td>\n",
       "      <td>168</td>\n",
       "      <td>-60</td>\n",
       "      <td>-135</td>\n",
       "      <td>80</td>\n",
       "      <td>1</td>\n",
       "    </tr>\n",
       "  </tbody>\n",
       "</table>\n",
       "<p>5 rows × 170 columns</p>\n",
       "</div>"
      ],
      "text/plain": [
       "   ID molecule_name conformation_name  f1   f2   f3  f4   f5  f6  f7  ...  \\\n",
       "0   1      MUSK-211           211_1+1  46 -108  -60 -69 -117  49  38  ...   \n",
       "1   2      MUSK-211          211_1+10  41 -188 -145  22 -117  -6  57  ...   \n",
       "2   3      MUSK-211          211_1+11  46 -194 -145  28 -117  73  57  ...   \n",
       "3   4      MUSK-211          211_1+12  41 -188 -145  22 -117  -7  57  ...   \n",
       "4   5      MUSK-211          211_1+13  41 -188 -145  22 -117  -7  57  ...   \n",
       "\n",
       "   f158  f159  f160  f161  f162  f163  f164  f165  f166  class  \n",
       "0  -308    52    -7    39   126   156   -50  -112    96      1  \n",
       "1   -59    -2    52   103   136   169   -61  -136    79      1  \n",
       "2  -134  -154    57   143   142   165   -67  -145    39      1  \n",
       "3   -60    -4    52   104   136   168   -60  -135    80      1  \n",
       "4   -60    -4    52   104   137   168   -60  -135    80      1  \n",
       "\n",
       "[5 rows x 170 columns]"
      ]
     },
     "execution_count": 8,
     "metadata": {},
     "output_type": "execute_result"
    }
   ],
   "source": [
    "data.head()"
   ]
  },
  {
   "cell_type": "code",
   "execution_count": 9,
   "metadata": {
    "collapsed": false,
    "deletable": true,
    "editable": true,
    "scrolled": true
   },
   "outputs": [
    {
     "data": {
      "text/plain": [
       "Index(['ID', 'molecule_name', 'conformation_name', 'f1', 'f2', 'f3', 'f4',\n",
       "       'f5', 'f6', 'f7',\n",
       "       ...\n",
       "       'f158', 'f159', 'f160', 'f161', 'f162', 'f163', 'f164', 'f165', 'f166',\n",
       "       'class'],\n",
       "      dtype='object', length=170)"
      ]
     },
     "execution_count": 9,
     "metadata": {},
     "output_type": "execute_result"
    }
   ],
   "source": [
    "data.columns"
   ]
  },
  {
   "cell_type": "code",
   "execution_count": 10,
   "metadata": {
    "collapsed": false,
    "deletable": true,
    "editable": true
   },
   "outputs": [
    {
     "data": {
      "text/plain": [
       "(6598, 170)"
      ]
     },
     "execution_count": 10,
     "metadata": {},
     "output_type": "execute_result"
    }
   ],
   "source": [
    "data.shape"
   ]
  },
  {
   "cell_type": "code",
   "execution_count": 11,
   "metadata": {
    "collapsed": false,
    "deletable": true,
    "editable": true
   },
   "outputs": [
    {
     "data": {
      "text/plain": [
       "ID                    int64\n",
       "molecule_name        object\n",
       "conformation_name    object\n",
       "f1                    int64\n",
       "f2                    int64\n",
       "                      ...  \n",
       "f163                  int64\n",
       "f164                  int64\n",
       "f165                  int64\n",
       "f166                  int64\n",
       "class                 int64\n",
       "Length: 170, dtype: object"
      ]
     },
     "execution_count": 11,
     "metadata": {},
     "output_type": "execute_result"
    }
   ],
   "source": [
    "data.dtypes"
   ]
  },
  {
   "cell_type": "code",
   "execution_count": 12,
   "metadata": {
    "collapsed": false,
    "deletable": true,
    "editable": true
   },
   "outputs": [
    {
     "data": {
      "text/plain": [
       "j146_1+182    1\n",
       "j146_3+187    1\n",
       "252_2+293     1\n",
       "j147_2+51     1\n",
       "f146_1+184    1\n",
       "             ..\n",
       "jp13_2+27     1\n",
       "330_2+3       1\n",
       "j146_3+103    1\n",
       "213_1+11      1\n",
       "217_1+14      1\n",
       "Name: conformation_name, Length: 6598, dtype: int64"
      ]
     },
     "execution_count": 12,
     "metadata": {},
     "output_type": "execute_result"
    }
   ],
   "source": [
    "data['conformation_name'].value_counts()"
   ]
  },
  {
   "cell_type": "code",
   "execution_count": 13,
   "metadata": {
    "collapsed": false,
    "deletable": true,
    "editable": true,
    "scrolled": true
   },
   "outputs": [
    {
     "data": {
      "text/html": [
       "<div>\n",
       "<style scoped>\n",
       "    .dataframe tbody tr th:only-of-type {\n",
       "        vertical-align: middle;\n",
       "    }\n",
       "\n",
       "    .dataframe tbody tr th {\n",
       "        vertical-align: top;\n",
       "    }\n",
       "\n",
       "    .dataframe thead th {\n",
       "        text-align: right;\n",
       "    }\n",
       "</style>\n",
       "<table border=\"1\" class=\"dataframe\">\n",
       "  <thead>\n",
       "    <tr style=\"text-align: right;\">\n",
       "      <th></th>\n",
       "      <th>192_1+1</th>\n",
       "      <th>192_1+10</th>\n",
       "      <th>192_1+100</th>\n",
       "      <th>192_1+101</th>\n",
       "      <th>192_1+102</th>\n",
       "      <th>192_1+103</th>\n",
       "      <th>192_1+104</th>\n",
       "      <th>192_1+105</th>\n",
       "      <th>192_1+106</th>\n",
       "      <th>192_1+107</th>\n",
       "      <th>...</th>\n",
       "      <th>jp13_2+29</th>\n",
       "      <th>jp13_2+3</th>\n",
       "      <th>jp13_2+30</th>\n",
       "      <th>jp13_2+31</th>\n",
       "      <th>jp13_2+4</th>\n",
       "      <th>jp13_2+5</th>\n",
       "      <th>jp13_2+6</th>\n",
       "      <th>jp13_2+7</th>\n",
       "      <th>jp13_2+8</th>\n",
       "      <th>jp13_2+9</th>\n",
       "    </tr>\n",
       "  </thead>\n",
       "  <tbody>\n",
       "    <tr>\n",
       "      <td>0</td>\n",
       "      <td>0</td>\n",
       "      <td>0</td>\n",
       "      <td>0</td>\n",
       "      <td>0</td>\n",
       "      <td>0</td>\n",
       "      <td>0</td>\n",
       "      <td>0</td>\n",
       "      <td>0</td>\n",
       "      <td>0</td>\n",
       "      <td>0</td>\n",
       "      <td>...</td>\n",
       "      <td>0</td>\n",
       "      <td>0</td>\n",
       "      <td>0</td>\n",
       "      <td>0</td>\n",
       "      <td>0</td>\n",
       "      <td>0</td>\n",
       "      <td>0</td>\n",
       "      <td>0</td>\n",
       "      <td>0</td>\n",
       "      <td>0</td>\n",
       "    </tr>\n",
       "    <tr>\n",
       "      <td>1</td>\n",
       "      <td>0</td>\n",
       "      <td>0</td>\n",
       "      <td>0</td>\n",
       "      <td>0</td>\n",
       "      <td>0</td>\n",
       "      <td>0</td>\n",
       "      <td>0</td>\n",
       "      <td>0</td>\n",
       "      <td>0</td>\n",
       "      <td>0</td>\n",
       "      <td>...</td>\n",
       "      <td>0</td>\n",
       "      <td>0</td>\n",
       "      <td>0</td>\n",
       "      <td>0</td>\n",
       "      <td>0</td>\n",
       "      <td>0</td>\n",
       "      <td>0</td>\n",
       "      <td>0</td>\n",
       "      <td>0</td>\n",
       "      <td>0</td>\n",
       "    </tr>\n",
       "    <tr>\n",
       "      <td>2</td>\n",
       "      <td>0</td>\n",
       "      <td>0</td>\n",
       "      <td>0</td>\n",
       "      <td>0</td>\n",
       "      <td>0</td>\n",
       "      <td>0</td>\n",
       "      <td>0</td>\n",
       "      <td>0</td>\n",
       "      <td>0</td>\n",
       "      <td>0</td>\n",
       "      <td>...</td>\n",
       "      <td>0</td>\n",
       "      <td>0</td>\n",
       "      <td>0</td>\n",
       "      <td>0</td>\n",
       "      <td>0</td>\n",
       "      <td>0</td>\n",
       "      <td>0</td>\n",
       "      <td>0</td>\n",
       "      <td>0</td>\n",
       "      <td>0</td>\n",
       "    </tr>\n",
       "    <tr>\n",
       "      <td>3</td>\n",
       "      <td>0</td>\n",
       "      <td>0</td>\n",
       "      <td>0</td>\n",
       "      <td>0</td>\n",
       "      <td>0</td>\n",
       "      <td>0</td>\n",
       "      <td>0</td>\n",
       "      <td>0</td>\n",
       "      <td>0</td>\n",
       "      <td>0</td>\n",
       "      <td>...</td>\n",
       "      <td>0</td>\n",
       "      <td>0</td>\n",
       "      <td>0</td>\n",
       "      <td>0</td>\n",
       "      <td>0</td>\n",
       "      <td>0</td>\n",
       "      <td>0</td>\n",
       "      <td>0</td>\n",
       "      <td>0</td>\n",
       "      <td>0</td>\n",
       "    </tr>\n",
       "    <tr>\n",
       "      <td>4</td>\n",
       "      <td>0</td>\n",
       "      <td>0</td>\n",
       "      <td>0</td>\n",
       "      <td>0</td>\n",
       "      <td>0</td>\n",
       "      <td>0</td>\n",
       "      <td>0</td>\n",
       "      <td>0</td>\n",
       "      <td>0</td>\n",
       "      <td>0</td>\n",
       "      <td>...</td>\n",
       "      <td>0</td>\n",
       "      <td>0</td>\n",
       "      <td>0</td>\n",
       "      <td>0</td>\n",
       "      <td>0</td>\n",
       "      <td>0</td>\n",
       "      <td>0</td>\n",
       "      <td>0</td>\n",
       "      <td>0</td>\n",
       "      <td>0</td>\n",
       "    </tr>\n",
       "  </tbody>\n",
       "</table>\n",
       "<p>5 rows × 6598 columns</p>\n",
       "</div>"
      ],
      "text/plain": [
       "   192_1+1  192_1+10  192_1+100  192_1+101  192_1+102  192_1+103  192_1+104  \\\n",
       "0        0         0          0          0          0          0          0   \n",
       "1        0         0          0          0          0          0          0   \n",
       "2        0         0          0          0          0          0          0   \n",
       "3        0         0          0          0          0          0          0   \n",
       "4        0         0          0          0          0          0          0   \n",
       "\n",
       "   192_1+105  192_1+106  192_1+107  ...  jp13_2+29  jp13_2+3  jp13_2+30  \\\n",
       "0          0          0          0  ...          0         0          0   \n",
       "1          0          0          0  ...          0         0          0   \n",
       "2          0          0          0  ...          0         0          0   \n",
       "3          0          0          0  ...          0         0          0   \n",
       "4          0          0          0  ...          0         0          0   \n",
       "\n",
       "   jp13_2+31  jp13_2+4  jp13_2+5  jp13_2+6  jp13_2+7  jp13_2+8  jp13_2+9  \n",
       "0          0         0         0         0         0         0         0  \n",
       "1          0         0         0         0         0         0         0  \n",
       "2          0         0         0         0         0         0         0  \n",
       "3          0         0         0         0         0         0         0  \n",
       "4          0         0         0         0         0         0         0  \n",
       "\n",
       "[5 rows x 6598 columns]"
      ]
     },
     "execution_count": 13,
     "metadata": {},
     "output_type": "execute_result"
    }
   ],
   "source": [
    "pd.get_dummies(data['conformation_name']).head()"
   ]
  },
  {
   "cell_type": "code",
   "execution_count": 14,
   "metadata": {
    "collapsed": true,
    "deletable": true,
    "editable": true
   },
   "outputs": [],
   "source": [
    "data = data.drop(columns='molecule_name',inplace=False, axis = 1)"
   ]
  },
  {
   "cell_type": "code",
   "execution_count": 15,
   "metadata": {
    "collapsed": true,
    "deletable": true,
    "editable": true
   },
   "outputs": [],
   "source": [
    "data = data.drop(columns='conformation_name',inplace=False, axis = 1)"
   ]
  },
  {
   "cell_type": "code",
   "execution_count": 16,
   "metadata": {
    "collapsed": true,
    "deletable": true,
    "editable": true
   },
   "outputs": [],
   "source": [
    "data = data.drop(columns='ID',inplace=False, axis = 1)"
   ]
  },
  {
   "cell_type": "code",
   "execution_count": 17,
   "metadata": {
    "collapsed": false,
    "deletable": true,
    "editable": true
   },
   "outputs": [
    {
     "data": {
      "text/plain": [
       "f1       0\n",
       "f2       0\n",
       "f3       0\n",
       "f4       0\n",
       "f5       0\n",
       "        ..\n",
       "f163     0\n",
       "f164     0\n",
       "f165     0\n",
       "f166     0\n",
       "class    0\n",
       "Length: 167, dtype: int64"
      ]
     },
     "execution_count": 17,
     "metadata": {},
     "output_type": "execute_result"
    }
   ],
   "source": [
    "data.isnull().sum()"
   ]
  },
  {
   "cell_type": "code",
   "execution_count": 18,
   "metadata": {
    "collapsed": false,
    "deletable": true,
    "editable": true
   },
   "outputs": [
    {
     "data": {
      "text/plain": [
       "((6598, 166), (6598,))"
      ]
     },
     "execution_count": 18,
     "metadata": {},
     "output_type": "execute_result"
    }
   ],
   "source": [
    "x = data.drop(['class'], axis=1)\n",
    "y = data['class']\n",
    "x.shape, y.shape"
   ]
  },
  {
   "cell_type": "code",
   "execution_count": 19,
   "metadata": {
    "collapsed": true,
    "deletable": true,
    "editable": true
   },
   "outputs": [],
   "source": [
    "from sklearn.model_selection import train_test_split\n",
    "train_x, valid_x, train_y, valid_y = train_test_split(x,y,random_state = 169, stratify = y, test_size = 0.20)"
   ]
  },
  {
   "cell_type": "code",
   "execution_count": 20,
   "metadata": {
    "collapsed": false,
    "deletable": true,
    "editable": true
   },
   "outputs": [
    {
     "data": {
      "text/plain": [
       "Index(['f1', 'f2', 'f3', 'f4', 'f5', 'f6', 'f7', 'f8', 'f9', 'f10',\n",
       "       ...\n",
       "       'f157', 'f158', 'f159', 'f160', 'f161', 'f162', 'f163', 'f164', 'f165',\n",
       "       'f166'],\n",
       "      dtype='object', length=166)"
      ]
     },
     "execution_count": 20,
     "metadata": {},
     "output_type": "execute_result"
    }
   ],
   "source": [
    "from sklearn.preprocessing import MinMaxScaler\n",
    "scalar = MinMaxScaler()\n",
    "cols = train_x.columns\n",
    "cols"
   ]
  },
  {
   "cell_type": "code",
   "execution_count": 21,
   "metadata": {
    "collapsed": false,
    "deletable": true,
    "editable": true,
    "scrolled": true
   },
   "outputs": [
    {
     "data": {
      "text/html": [
       "<div>\n",
       "<style scoped>\n",
       "    .dataframe tbody tr th:only-of-type {\n",
       "        vertical-align: middle;\n",
       "    }\n",
       "\n",
       "    .dataframe tbody tr th {\n",
       "        vertical-align: top;\n",
       "    }\n",
       "\n",
       "    .dataframe thead th {\n",
       "        text-align: right;\n",
       "    }\n",
       "</style>\n",
       "<table border=\"1\" class=\"dataframe\">\n",
       "  <thead>\n",
       "    <tr style=\"text-align: right;\">\n",
       "      <th></th>\n",
       "      <th>f1</th>\n",
       "      <th>f2</th>\n",
       "      <th>f3</th>\n",
       "      <th>f4</th>\n",
       "      <th>f5</th>\n",
       "      <th>f6</th>\n",
       "      <th>f7</th>\n",
       "      <th>f8</th>\n",
       "      <th>f9</th>\n",
       "      <th>f10</th>\n",
       "      <th>...</th>\n",
       "      <th>f157</th>\n",
       "      <th>f158</th>\n",
       "      <th>f159</th>\n",
       "      <th>f160</th>\n",
       "      <th>f161</th>\n",
       "      <th>f162</th>\n",
       "      <th>f163</th>\n",
       "      <th>f164</th>\n",
       "      <th>f165</th>\n",
       "      <th>f166</th>\n",
       "    </tr>\n",
       "  </thead>\n",
       "  <tbody>\n",
       "    <tr>\n",
       "      <td>0</td>\n",
       "      <td>0.244582</td>\n",
       "      <td>0.006849</td>\n",
       "      <td>0.068548</td>\n",
       "      <td>0.520000</td>\n",
       "      <td>0.002257</td>\n",
       "      <td>0.258486</td>\n",
       "      <td>0.608696</td>\n",
       "      <td>0.414679</td>\n",
       "      <td>0.573980</td>\n",
       "      <td>0.218569</td>\n",
       "      <td>...</td>\n",
       "      <td>0.042289</td>\n",
       "      <td>0.155875</td>\n",
       "      <td>0.022613</td>\n",
       "      <td>0.484756</td>\n",
       "      <td>0.516008</td>\n",
       "      <td>0.475177</td>\n",
       "      <td>0.208333</td>\n",
       "      <td>0.371575</td>\n",
       "      <td>0.427852</td>\n",
       "      <td>0.581146</td>\n",
       "    </tr>\n",
       "    <tr>\n",
       "      <td>1</td>\n",
       "      <td>0.216718</td>\n",
       "      <td>0.023973</td>\n",
       "      <td>0.250000</td>\n",
       "      <td>0.810909</td>\n",
       "      <td>0.002257</td>\n",
       "      <td>0.522193</td>\n",
       "      <td>0.974425</td>\n",
       "      <td>0.381651</td>\n",
       "      <td>0.558673</td>\n",
       "      <td>0.586074</td>\n",
       "      <td>...</td>\n",
       "      <td>0.072139</td>\n",
       "      <td>0.618705</td>\n",
       "      <td>0.321608</td>\n",
       "      <td>0.115854</td>\n",
       "      <td>0.485876</td>\n",
       "      <td>0.411348</td>\n",
       "      <td>0.282609</td>\n",
       "      <td>0.369863</td>\n",
       "      <td>0.354027</td>\n",
       "      <td>0.547733</td>\n",
       "    </tr>\n",
       "    <tr>\n",
       "      <td>2</td>\n",
       "      <td>0.114551</td>\n",
       "      <td>0.020548</td>\n",
       "      <td>0.088710</td>\n",
       "      <td>0.160000</td>\n",
       "      <td>0.011287</td>\n",
       "      <td>0.618799</td>\n",
       "      <td>0.580563</td>\n",
       "      <td>0.097248</td>\n",
       "      <td>0.522959</td>\n",
       "      <td>0.570600</td>\n",
       "      <td>...</td>\n",
       "      <td>0.049751</td>\n",
       "      <td>0.064748</td>\n",
       "      <td>0.701005</td>\n",
       "      <td>0.015244</td>\n",
       "      <td>0.299435</td>\n",
       "      <td>0.269504</td>\n",
       "      <td>0.639493</td>\n",
       "      <td>0.943493</td>\n",
       "      <td>0.984899</td>\n",
       "      <td>0.915274</td>\n",
       "    </tr>\n",
       "    <tr>\n",
       "      <td>3</td>\n",
       "      <td>0.984520</td>\n",
       "      <td>0.017123</td>\n",
       "      <td>0.088710</td>\n",
       "      <td>0.138182</td>\n",
       "      <td>0.002257</td>\n",
       "      <td>0.509138</td>\n",
       "      <td>0.583120</td>\n",
       "      <td>0.097248</td>\n",
       "      <td>0.522959</td>\n",
       "      <td>0.504836</td>\n",
       "      <td>...</td>\n",
       "      <td>0.052239</td>\n",
       "      <td>0.609113</td>\n",
       "      <td>0.228643</td>\n",
       "      <td>0.024390</td>\n",
       "      <td>0.000000</td>\n",
       "      <td>0.914894</td>\n",
       "      <td>0.257246</td>\n",
       "      <td>0.501712</td>\n",
       "      <td>0.946309</td>\n",
       "      <td>0.761337</td>\n",
       "    </tr>\n",
       "    <tr>\n",
       "      <td>4</td>\n",
       "      <td>0.253870</td>\n",
       "      <td>0.260274</td>\n",
       "      <td>0.580645</td>\n",
       "      <td>0.145455</td>\n",
       "      <td>0.002257</td>\n",
       "      <td>0.665796</td>\n",
       "      <td>0.028133</td>\n",
       "      <td>0.724771</td>\n",
       "      <td>0.165816</td>\n",
       "      <td>0.508704</td>\n",
       "      <td>...</td>\n",
       "      <td>0.024876</td>\n",
       "      <td>0.016787</td>\n",
       "      <td>0.660804</td>\n",
       "      <td>0.371951</td>\n",
       "      <td>0.169492</td>\n",
       "      <td>0.413712</td>\n",
       "      <td>0.177536</td>\n",
       "      <td>0.419521</td>\n",
       "      <td>0.523490</td>\n",
       "      <td>0.702864</td>\n",
       "    </tr>\n",
       "  </tbody>\n",
       "</table>\n",
       "<p>5 rows × 166 columns</p>\n",
       "</div>"
      ],
      "text/plain": [
       "         f1        f2        f3        f4        f5        f6        f7  \\\n",
       "0  0.244582  0.006849  0.068548  0.520000  0.002257  0.258486  0.608696   \n",
       "1  0.216718  0.023973  0.250000  0.810909  0.002257  0.522193  0.974425   \n",
       "2  0.114551  0.020548  0.088710  0.160000  0.011287  0.618799  0.580563   \n",
       "3  0.984520  0.017123  0.088710  0.138182  0.002257  0.509138  0.583120   \n",
       "4  0.253870  0.260274  0.580645  0.145455  0.002257  0.665796  0.028133   \n",
       "\n",
       "         f8        f9       f10  ...      f157      f158      f159      f160  \\\n",
       "0  0.414679  0.573980  0.218569  ...  0.042289  0.155875  0.022613  0.484756   \n",
       "1  0.381651  0.558673  0.586074  ...  0.072139  0.618705  0.321608  0.115854   \n",
       "2  0.097248  0.522959  0.570600  ...  0.049751  0.064748  0.701005  0.015244   \n",
       "3  0.097248  0.522959  0.504836  ...  0.052239  0.609113  0.228643  0.024390   \n",
       "4  0.724771  0.165816  0.508704  ...  0.024876  0.016787  0.660804  0.371951   \n",
       "\n",
       "       f161      f162      f163      f164      f165      f166  \n",
       "0  0.516008  0.475177  0.208333  0.371575  0.427852  0.581146  \n",
       "1  0.485876  0.411348  0.282609  0.369863  0.354027  0.547733  \n",
       "2  0.299435  0.269504  0.639493  0.943493  0.984899  0.915274  \n",
       "3  0.000000  0.914894  0.257246  0.501712  0.946309  0.761337  \n",
       "4  0.169492  0.413712  0.177536  0.419521  0.523490  0.702864  \n",
       "\n",
       "[5 rows x 166 columns]"
      ]
     },
     "execution_count": 21,
     "metadata": {},
     "output_type": "execute_result"
    }
   ],
   "source": [
    "train_x_scaled = scalar.fit_transform(train_x)\n",
    "train_x_scaled = pd.DataFrame(train_x_scaled, columns = cols)\n",
    "train_x_scaled.head()"
   ]
  },
  {
   "cell_type": "code",
   "execution_count": 22,
   "metadata": {
    "collapsed": false,
    "deletable": true,
    "editable": true
   },
   "outputs": [
    {
     "data": {
      "text/html": [
       "<div>\n",
       "<style scoped>\n",
       "    .dataframe tbody tr th:only-of-type {\n",
       "        vertical-align: middle;\n",
       "    }\n",
       "\n",
       "    .dataframe tbody tr th {\n",
       "        vertical-align: top;\n",
       "    }\n",
       "\n",
       "    .dataframe thead th {\n",
       "        text-align: right;\n",
       "    }\n",
       "</style>\n",
       "<table border=\"1\" class=\"dataframe\">\n",
       "  <thead>\n",
       "    <tr style=\"text-align: right;\">\n",
       "      <th></th>\n",
       "      <th>f1</th>\n",
       "      <th>f2</th>\n",
       "      <th>f3</th>\n",
       "      <th>f4</th>\n",
       "      <th>f5</th>\n",
       "      <th>f6</th>\n",
       "      <th>f7</th>\n",
       "      <th>f8</th>\n",
       "      <th>f9</th>\n",
       "      <th>f10</th>\n",
       "      <th>...</th>\n",
       "      <th>f157</th>\n",
       "      <th>f158</th>\n",
       "      <th>f159</th>\n",
       "      <th>f160</th>\n",
       "      <th>f161</th>\n",
       "      <th>f162</th>\n",
       "      <th>f163</th>\n",
       "      <th>f164</th>\n",
       "      <th>f165</th>\n",
       "      <th>f166</th>\n",
       "    </tr>\n",
       "  </thead>\n",
       "  <tbody>\n",
       "    <tr>\n",
       "      <td>0</td>\n",
       "      <td>0.226708</td>\n",
       "      <td>0.071429</td>\n",
       "      <td>0.543103</td>\n",
       "      <td>0.138060</td>\n",
       "      <td>0.000000</td>\n",
       "      <td>0.947644</td>\n",
       "      <td>0.005181</td>\n",
       "      <td>0.551064</td>\n",
       "      <td>0.136598</td>\n",
       "      <td>0.526316</td>\n",
       "      <td>...</td>\n",
       "      <td>0.052632</td>\n",
       "      <td>0.345972</td>\n",
       "      <td>0.637975</td>\n",
       "      <td>0.354938</td>\n",
       "      <td>0.476460</td>\n",
       "      <td>0.419811</td>\n",
       "      <td>0.160714</td>\n",
       "      <td>0.387324</td>\n",
       "      <td>0.440135</td>\n",
       "      <td>0.588542</td>\n",
       "    </tr>\n",
       "    <tr>\n",
       "      <td>1</td>\n",
       "      <td>0.236025</td>\n",
       "      <td>0.023810</td>\n",
       "      <td>0.094828</td>\n",
       "      <td>0.537313</td>\n",
       "      <td>0.000000</td>\n",
       "      <td>0.604712</td>\n",
       "      <td>0.564767</td>\n",
       "      <td>0.114894</td>\n",
       "      <td>0.510309</td>\n",
       "      <td>0.721248</td>\n",
       "      <td>...</td>\n",
       "      <td>0.042607</td>\n",
       "      <td>0.571090</td>\n",
       "      <td>0.511392</td>\n",
       "      <td>0.558642</td>\n",
       "      <td>0.504708</td>\n",
       "      <td>0.495283</td>\n",
       "      <td>0.132937</td>\n",
       "      <td>0.389085</td>\n",
       "      <td>0.468803</td>\n",
       "      <td>0.657552</td>\n",
       "    </tr>\n",
       "    <tr>\n",
       "      <td>2</td>\n",
       "      <td>0.782609</td>\n",
       "      <td>0.003401</td>\n",
       "      <td>0.228448</td>\n",
       "      <td>0.138060</td>\n",
       "      <td>0.000000</td>\n",
       "      <td>0.505236</td>\n",
       "      <td>0.505181</td>\n",
       "      <td>0.274468</td>\n",
       "      <td>0.569588</td>\n",
       "      <td>0.500975</td>\n",
       "      <td>...</td>\n",
       "      <td>0.045113</td>\n",
       "      <td>0.601896</td>\n",
       "      <td>0.222785</td>\n",
       "      <td>0.209877</td>\n",
       "      <td>0.998117</td>\n",
       "      <td>0.990566</td>\n",
       "      <td>0.007937</td>\n",
       "      <td>0.489437</td>\n",
       "      <td>0.553120</td>\n",
       "      <td>0.574219</td>\n",
       "    </tr>\n",
       "    <tr>\n",
       "      <td>3</td>\n",
       "      <td>0.186335</td>\n",
       "      <td>0.003401</td>\n",
       "      <td>0.000000</td>\n",
       "      <td>0.940299</td>\n",
       "      <td>0.002398</td>\n",
       "      <td>0.748691</td>\n",
       "      <td>0.031088</td>\n",
       "      <td>0.440426</td>\n",
       "      <td>0.072165</td>\n",
       "      <td>0.339181</td>\n",
       "      <td>...</td>\n",
       "      <td>0.040100</td>\n",
       "      <td>0.182464</td>\n",
       "      <td>0.017722</td>\n",
       "      <td>0.064815</td>\n",
       "      <td>0.453861</td>\n",
       "      <td>0.367925</td>\n",
       "      <td>0.337302</td>\n",
       "      <td>0.383803</td>\n",
       "      <td>0.279933</td>\n",
       "      <td>0.595052</td>\n",
       "    </tr>\n",
       "    <tr>\n",
       "      <td>4</td>\n",
       "      <td>0.242236</td>\n",
       "      <td>0.030612</td>\n",
       "      <td>0.103448</td>\n",
       "      <td>0.526119</td>\n",
       "      <td>0.000000</td>\n",
       "      <td>0.253927</td>\n",
       "      <td>0.582902</td>\n",
       "      <td>0.580851</td>\n",
       "      <td>0.829897</td>\n",
       "      <td>0.461988</td>\n",
       "      <td>...</td>\n",
       "      <td>0.042607</td>\n",
       "      <td>0.101896</td>\n",
       "      <td>0.017722</td>\n",
       "      <td>0.462963</td>\n",
       "      <td>0.517891</td>\n",
       "      <td>0.471698</td>\n",
       "      <td>0.178571</td>\n",
       "      <td>0.380282</td>\n",
       "      <td>0.424958</td>\n",
       "      <td>0.630208</td>\n",
       "    </tr>\n",
       "  </tbody>\n",
       "</table>\n",
       "<p>5 rows × 166 columns</p>\n",
       "</div>"
      ],
      "text/plain": [
       "         f1        f2        f3        f4        f5        f6        f7  \\\n",
       "0  0.226708  0.071429  0.543103  0.138060  0.000000  0.947644  0.005181   \n",
       "1  0.236025  0.023810  0.094828  0.537313  0.000000  0.604712  0.564767   \n",
       "2  0.782609  0.003401  0.228448  0.138060  0.000000  0.505236  0.505181   \n",
       "3  0.186335  0.003401  0.000000  0.940299  0.002398  0.748691  0.031088   \n",
       "4  0.242236  0.030612  0.103448  0.526119  0.000000  0.253927  0.582902   \n",
       "\n",
       "         f8        f9       f10  ...      f157      f158      f159      f160  \\\n",
       "0  0.551064  0.136598  0.526316  ...  0.052632  0.345972  0.637975  0.354938   \n",
       "1  0.114894  0.510309  0.721248  ...  0.042607  0.571090  0.511392  0.558642   \n",
       "2  0.274468  0.569588  0.500975  ...  0.045113  0.601896  0.222785  0.209877   \n",
       "3  0.440426  0.072165  0.339181  ...  0.040100  0.182464  0.017722  0.064815   \n",
       "4  0.580851  0.829897  0.461988  ...  0.042607  0.101896  0.017722  0.462963   \n",
       "\n",
       "       f161      f162      f163      f164      f165      f166  \n",
       "0  0.476460  0.419811  0.160714  0.387324  0.440135  0.588542  \n",
       "1  0.504708  0.495283  0.132937  0.389085  0.468803  0.657552  \n",
       "2  0.998117  0.990566  0.007937  0.489437  0.553120  0.574219  \n",
       "3  0.453861  0.367925  0.337302  0.383803  0.279933  0.595052  \n",
       "4  0.517891  0.471698  0.178571  0.380282  0.424958  0.630208  \n",
       "\n",
       "[5 rows x 166 columns]"
      ]
     },
     "execution_count": 22,
     "metadata": {},
     "output_type": "execute_result"
    }
   ],
   "source": [
    "valid_x_scaled = scalar.fit_transform(valid_x)\n",
    "valid_x_scaled = pd.DataFrame(valid_x_scaled, columns = cols)\n",
    "valid_x_scaled.head()"
   ]
  },
  {
   "cell_type": "code",
   "execution_count": 23,
   "metadata": {
    "collapsed": true,
    "deletable": true,
    "editable": true
   },
   "outputs": [],
   "source": [
    "from sklearn.linear_model import LogisticRegression as LogReg\n",
    "from sklearn.metrics import f1_score"
   ]
  },
  {
   "cell_type": "code",
   "execution_count": 24,
   "metadata": {
    "collapsed": false,
    "deletable": true,
    "editable": true
   },
   "outputs": [
    {
     "name": "stderr",
     "output_type": "stream",
     "text": [
      "C:\\Users\\Av\\Anaconda3\\lib\\site-packages\\sklearn\\linear_model\\logistic.py:432: FutureWarning: Default solver will be changed to 'lbfgs' in 0.22. Specify a solver to silence this warning.\n",
      "  FutureWarning)\n"
     ]
    },
    {
     "data": {
      "text/plain": [
       "LogisticRegression(C=1.0, class_weight=None, dual=False, fit_intercept=True,\n",
       "                   intercept_scaling=1, l1_ratio=None, max_iter=100,\n",
       "                   multi_class='warn', n_jobs=None, penalty='l2',\n",
       "                   random_state=None, solver='warn', tol=0.0001, verbose=0,\n",
       "                   warm_start=False)"
      ]
     },
     "execution_count": 24,
     "metadata": {},
     "output_type": "execute_result"
    }
   ],
   "source": [
    "logreg = LogReg()\n",
    "logreg.fit(train_x, train_y)"
   ]
  },
  {
   "cell_type": "code",
   "execution_count": 25,
   "metadata": {
    "collapsed": false,
    "deletable": true,
    "editable": true
   },
   "outputs": [
    {
     "data": {
      "text/plain": [
       "array([0, 0, 0, ..., 0, 0, 1], dtype=int64)"
      ]
     },
     "execution_count": 25,
     "metadata": {},
     "output_type": "execute_result"
    }
   ],
   "source": [
    "train_predict = logreg.predict(train_x)\n",
    "train_predict"
   ]
  },
  {
   "cell_type": "code",
   "execution_count": 26,
   "metadata": {
    "collapsed": false,
    "deletable": true,
    "editable": true
   },
   "outputs": [
    {
     "name": "stdout",
     "output_type": "stream",
     "text": [
      "Training f1_Score:  0.8775510204081632\n"
     ]
    }
   ],
   "source": [
    "k = f1_score(train_predict, train_y)\n",
    "print('Training f1_Score: ', k)"
   ]
  },
  {
   "cell_type": "code",
   "execution_count": 27,
   "metadata": {
    "collapsed": false,
    "deletable": true,
    "editable": true
   },
   "outputs": [
    {
     "name": "stdout",
     "output_type": "stream",
     "text": [
      "Validation f1_Score:  0.8385416666666667\n"
     ]
    }
   ],
   "source": [
    "valid_predict = logreg.predict(valid_x)\n",
    "k = f1_score(valid_predict, valid_y)\n",
    "print('Validation f1_Score: ', k)"
   ]
  },
  {
   "cell_type": "code",
   "execution_count": 28,
   "metadata": {
    "collapsed": false,
    "deletable": true,
    "editable": true
   },
   "outputs": [
    {
     "name": "stdout",
     "output_type": "stream",
     "text": [
      "[[1097   20]\n",
      " [  42  161]]\n"
     ]
    }
   ],
   "source": [
    "from sklearn.metrics import confusion_matrix\n",
    "cf = confusion_matrix(valid_y, valid_predict)\n",
    "print(cf)"
   ]
  },
  {
   "cell_type": "code",
   "execution_count": 29,
   "metadata": {
    "collapsed": false,
    "deletable": true,
    "editable": true
   },
   "outputs": [
    {
     "name": "stdout",
     "output_type": "stream",
     "text": [
      "              precision    recall  f1-score   support\n",
      "\n",
      "           0       0.96      0.98      0.97      1117\n",
      "           1       0.89      0.79      0.84       203\n",
      "\n",
      "    accuracy                           0.95      1320\n",
      "   macro avg       0.93      0.89      0.91      1320\n",
      "weighted avg       0.95      0.95      0.95      1320\n",
      "\n"
     ]
    }
   ],
   "source": [
    "from sklearn.metrics import classification_report as rep\n",
    "print(rep(valid_y, valid_predict))"
   ]
  },
  {
   "cell_type": "code",
   "execution_count": 30,
   "metadata": {
    "collapsed": false,
    "deletable": true,
    "editable": true
   },
   "outputs": [
    {
     "data": {
      "text/plain": [
       "Text(0.5, 1.0, 'Coefficient Plot')"
      ]
     },
     "execution_count": 30,
     "metadata": {},
     "output_type": "execute_result"
    },
    {
     "data": {
      "image/png": "[encoded data removed]",
      "text/plain": [
       "<Figure size 960x720 with 1 Axes>"
      ]
     },
     "metadata": {},
     "output_type": "display_data"
    }
   ],
   "source": [
    "plt.figure(figsize=(8,6), dpi=120, facecolor='w', edgecolor='b')\n",
    "x=range(len(train_x.columns))\n",
    "c = logreg.coef_.reshape(-1)\n",
    "plt.bar(x,c)\n",
    "plt.xlabel(\"Variable\")\n",
    "plt.ylabel(\"Coefficient\")\n",
    "plt.title(\"Coefficient Plot\")"
   ]
  },
  {
   "cell_type": "code",
   "execution_count": 31,
   "metadata": {
    "collapsed": false,
    "deletable": true,
    "editable": true
   },
   "outputs": [
    {
     "data": {
      "image/png": "[encoded data removed]",
      "text/plain": [
       "<Figure size 432x288 with 1 Axes>"
      ]
     },
     "metadata": {
      "needs_background": "light"
     },
     "output_type": "display_data"
    }
   ],
   "source": [
    "from sklearn.metrics import roc_curve\n",
    "fpr, tpr, thresholds = roc_curve(valid_y, valid_predict)\n",
    "\n",
    "plt.plot(fpr, tpr)\n",
    "plt.xlim([0.0, 1.0])\n",
    "plt.ylim([0.0, 1.0])\n",
    "plt.rcParams['font.size'] = 12\n",
    "plt.title('ROC curve for diabetes classifier')\n",
    "plt.xlabel('False Positive Rate (1 - Specificity)')\n",
    "plt.ylabel('True Positive Rate (Sensitivity)')\n",
    "plt.grid(True)\n",
    "\n"
   ]
  },
  {
   "cell_type": "code",
   "execution_count": 33,
   "metadata": {
    "collapsed": false,
    "deletable": true,
    "editable": true
   },
   "outputs": [
    {
     "data": {
      "text/plain": [
       "Text(0, 0.5, 'Frequency')"
      ]
     },
     "execution_count": 33,
     "metadata": {},
     "output_type": "execute_result"
    },
    {
     "data": {
      "image/png": "[encoded data removed]",
      "text/plain": [
       "<Figure size 432x288 with 1 Axes>"
      ]
     },
     "metadata": {
      "needs_background": "light"
     },
     "output_type": "display_data"
    }
   ],
   "source": [
    "plt.hist(valid_predict, bins=8)\n",
    "\n",
    "# x-axis limit from 0 to 1\n",
    "plt.xlim(0,1)\n",
    "plt.title('Histogram of predicted probabilities')\n",
    "plt.xlabel('Predicted probability')\n",
    "plt.ylabel('Frequency')"
   ]
  },
  {
   "cell_type": "code",
   "execution_count": 35,
   "metadata": {
    "collapsed": false,
    "deletable": true,
    "editable": true
   },
   "outputs": [
    {
     "name": "stdout",
     "output_type": "stream",
     "text": [
      "0.88759917266076\n"
     ]
    }
   ],
   "source": [
    "from sklearn.metrics import roc_auc_score\n",
    "print(roc_auc_score(valid_y, valid_predict))"
   ]
  },
  {
   "cell_type": "code",
   "execution_count": null,
   "metadata": {
    "collapsed": true,
    "deletable": true,
    "editable": true
   },
   "outputs": [],
   "source": []
  }
 ],
 "metadata": {
  "kernelspec": {
   "display_name": "Python 3",
   "language": "python",
   "name": "python3"
  },
  "language_info": {
   "codemirror_mode": {
    "name": "ipython",
    "version": 3
   },
   "file_extension": ".py",
   "mimetype": "text/x-python",
   "name": "python",
   "nbconvert_exporter": "python",
   "pygments_lexer": "ipython3",
   "version": "3.5.2"
  }
 },
 "nbformat": 4,
 "nbformat_minor": 2
}
